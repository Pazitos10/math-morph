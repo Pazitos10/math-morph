{
 "cells": [
  {
   "cell_type": "code",
   "execution_count": 2,
   "metadata": {},
   "outputs": [],
   "source": [
    "from morph import *\n",
    "import numpy as np\n",
    "from skimage import io\n",
    "from skimage.morphology import erosion, dilation\n",
    "from mpl_toolkits.axes_grid1 import AxesGrid\n",
    "#import matplotlib as mpl\n",
    "#mpl.rcParams['figure.figsize'] = [18*20, 12*20]\n",
    "import matplotlib.pyplot as plt\n",
    "\n",
    "%matplotlib inline"
   ]
  },
  {
   "cell_type": "markdown",
   "metadata": {},
   "source": [
    "### Testing different filters with a 3x3 structuring element"
   ]
  },
  {
   "cell_type": "code",
   "execution_count": 8,
   "metadata": {},
   "outputs": [
    {
     "name": "stderr",
     "output_type": "stream",
     "text": [
      "/usr/lib/python3.6/site-packages/skimage/io/_io.py:132: UserWarning: test_images/er_square3x3_selem.png is a low contrast image\n",
      "  warn('%s is a low contrast image' % fname)\n",
      "/usr/lib/python3.6/site-packages/skimage/io/_io.py:132: UserWarning: test_images/di_square3x3_selem.png is a low contrast image\n",
      "  warn('%s is a low contrast image' % fname)\n",
      "/usr/lib/python3.6/site-packages/skimage/io/_io.py:132: UserWarning: test_images/op_square3x3_selem.png is a low contrast image\n",
      "  warn('%s is a low contrast image' % fname)\n",
      "/usr/lib/python3.6/site-packages/skimage/io/_io.py:132: UserWarning: test_images/cl_square3x3_selem.png is a low contrast image\n",
      "  warn('%s is a low contrast image' % fname)\n",
      "/usr/lib/python3.6/site-packages/skimage/io/_io.py:132: UserWarning: test_images/ig_square3x3_selem.png is a low contrast image\n",
      "  warn('%s is a low contrast image' % fname)\n",
      "/usr/lib/python3.6/site-packages/skimage/io/_io.py:132: UserWarning: test_images/eg_square3x3_selem.png is a low contrast image\n",
      "  warn('%s is a low contrast image' % fname)\n",
      "/usr/lib/python3.6/site-packages/skimage/io/_io.py:132: UserWarning: test_images/mg_square3x3_selem.png is a low contrast image\n",
      "  warn('%s is a low contrast image' % fname)\n",
      "/usr/lib/python3.6/site-packages/skimage/io/_io.py:132: UserWarning: test_images/wth_square3x3_selem.png is a low contrast image\n",
      "  warn('%s is a low contrast image' % fname)\n",
      "/usr/lib/python3.6/site-packages/skimage/io/_io.py:132: UserWarning: test_images/bth_square3x3_selem.png is a low contrast image\n",
      "  warn('%s is a low contrast image' % fname)\n"
     ]
    },
    {
     "data": {
      "image/png": "[encoded data removed]",
      "text/plain": [
       "<matplotlib.figure.Figure at 0x7f41a256dc18>"
      ]
     },
     "metadata": {},
     "output_type": "display_data"
    }
   ],
   "source": [
    "img = io.imread(\"images/smile.png\", as_grey=True)\n",
    "fig = plt.figure()\n",
    "fig.set_figwidth(100)\n",
    "fig.set_figheight(150)\n",
    "\n",
    "fig.subplots_adjust(left=0.05, right=0.95)\n",
    "grid = AxesGrid(fig, 141, nrows_ncols=(2, 5), axes_pad=0.6)\n",
    "\n",
    "filters = ['original', 'er','di', 'op', 'cl', 'ig', 'eg', 'mg', 'wth', 'bth']\n",
    "titles = ['Original', 'Erosion', 'Dilation', 'Opening', 'Closing', 'Internal gradient', 'External gradient', 'Morphologycal gradient', 'White top-hat', 'Black top-hat']\n",
    "\n",
    "grid[0].set_title(titles[0])\n",
    "grid[0].imshow(apply_threshold(img), cmap=plt.cm.binary_r)\n",
    "for i, f in zip(range(1, len(filters)), filters[1:]):\n",
    "    grid[i].set_title(titles[i])\n",
    "    result = morph_filter(f, img)\n",
    "    io.imsave(\"test_images/{}_square3x3_selem.png\".format(f), result*255)\n",
    "    grid[i].imshow(result, cmap=plt.cm.binary_r)\n",
    "plt.savefig(\"images/filters.png\")"
   ]
  },
  {
   "cell_type": "code",
   "execution_count": 4,
   "metadata": {},
   "outputs": [
    {
     "data": {
      "text/plain": [
       "<matplotlib.image.AxesImage at 0x7f41a246a400>"
      ]
     },
     "execution_count": 4,
     "metadata": {},
     "output_type": "execute_result"
    },
    {
     "data": {
      "image/png": "[encoded data removed]",
      "text/plain": [
       "<matplotlib.figure.Figure at 0x7f41a272a9e8>"
      ]
     },
     "metadata": {},
     "output_type": "display_data"
    }
   ],
   "source": [
    "img = io.imread(\"images/smile.png\", as_grey=True)\n",
    "er = morph_filter(\"er\", img)\n",
    "show(img)"
   ]
  },
  {
   "cell_type": "markdown",
   "metadata": {},
   "source": [
    "### Applying a filter multiple times"
   ]
  },
  {
   "cell_type": "code",
   "execution_count": 95,
   "metadata": {},
   "outputs": [
    {
     "name": "stderr",
     "output_type": "stream",
     "text": [
      "/usr/lib/python3.6/site-packages/skimage/io/_io.py:132: UserWarning: test_images/erosion_1_times.png is a low contrast image\n",
      "  warn('%s is a low contrast image' % fname)\n",
      "/usr/lib/python3.6/site-packages/skimage/io/_io.py:132: UserWarning: test_images/erosion_2_times.png is a low contrast image\n",
      "  warn('%s is a low contrast image' % fname)\n",
      "/usr/lib/python3.6/site-packages/skimage/io/_io.py:132: UserWarning: test_images/erosion_3_times.png is a low contrast image\n",
      "  warn('%s is a low contrast image' % fname)\n",
      "/usr/lib/python3.6/site-packages/skimage/io/_io.py:132: UserWarning: test_images/erosion_4_times.png is a low contrast image\n",
      "  warn('%s is a low contrast image' % fname)\n",
      "/usr/lib/python3.6/site-packages/skimage/io/_io.py:132: UserWarning: test_images/erosion_5_times.png is a low contrast image\n",
      "  warn('%s is a low contrast image' % fname)\n",
      "/usr/lib/python3.6/site-packages/skimage/io/_io.py:132: UserWarning: test_images/erosion_6_times.png is a low contrast image\n",
      "  warn('%s is a low contrast image' % fname)\n",
      "/usr/lib/python3.6/site-packages/skimage/io/_io.py:132: UserWarning: test_images/erosion_7_times.png is a low contrast image\n",
      "  warn('%s is a low contrast image' % fname)\n"
     ]
    },
    {
     "data": {
      "image/png": "[encoded data removed]",
      "text/plain": [
       "<matplotlib.figure.Figure at 0x7f74c1394828>"
      ]
     },
     "metadata": {},
     "output_type": "display_data"
    }
   ],
   "source": [
    "ico = io.imread(\"images/favicon.png\", as_grey=True)\n",
    "\n",
    "fig2 = plt.figure()\n",
    "fig2.set_figwidth(100)\n",
    "fig2.set_figheight(150)\n",
    "\n",
    "fig2.subplots_adjust(left=0.05, right=0.95)\n",
    "grid2 = AxesGrid(fig2, 141, nrows_ncols=(2, 4), axes_pad=0.6)\n",
    "\n",
    "titles2 = ['Original', 'Erosion x1', 'Erosion x2', 'Erosion x3', 'Erosion x4', 'Erosion x5', 'Erosion x6', 'Erosion x7']\n",
    "\n",
    "\n",
    "grid2[0].set_title(titles2[0])\n",
    "grid2[0].imshow(apply_threshold(ico), cmap=plt.cm.binary_r)\n",
    "for i in range(1, len(titles2)):\n",
    "    grid2[i].set_title(titles2[i])\n",
    "    result = morph_filter('er', ico, n_iterations=i)\n",
    "    io.imsave(\"test_images/erosion_{}_times.png\".format(i), result*255)\n",
    "    grid2[i].imshow(result, cmap=plt.cm.binary_r)\n",
    "\n",
    "plt.savefig(\"images/filters-multiple-times.png\")"
   ]
  },
  {
   "cell_type": "markdown",
   "metadata": {},
   "source": [
    "### Applying different types of structuring elements"
   ]
  },
  {
   "cell_type": "code",
   "execution_count": 3,
   "metadata": {},
   "outputs": [
    {
     "name": "stderr",
     "output_type": "stream",
     "text": [
      "/usr/lib/python3.6/site-packages/skimage/util/dtype.py:122: UserWarning: Possible precision loss when converting from float64 to uint16\n",
      "  .format(dtypeobj_in, dtypeobj_out))\n"
     ]
    },
    {
     "data": {
      "image/png": "[encoded data removed]",
      "text/plain": [
       "<matplotlib.figure.Figure at 0x7f81786e8e48>"
      ]
     },
     "metadata": {},
     "output_type": "display_data"
    }
   ],
   "source": [
    "img = io.imread(\"images/smile.png\", as_grey=True)\n",
    "se1 = np.ones((3,3), dtype=np.uint8)\n",
    "\n",
    "se2 = np.array([[0, 1, 0], \n",
    "               [1, 1, 1], \n",
    "               [0, 1, 0]], dtype=np.uint8)\n",
    "\n",
    "se3 = np.array([[0, 0, 0], \n",
    "               [1, 1, 1], \n",
    "               [0, 0, 0]], dtype=np.uint8)\n",
    "\n",
    "se4 = np.array([[0, 1, 0], \n",
    "               [0, 1, 0], \n",
    "               [0, 1, 0]], dtype=np.uint8)\n",
    "\n",
    "fig3 = plt.figure()\n",
    "fig3.set_figwidth(100)\n",
    "fig3.set_figheight(150)\n",
    "\n",
    "fig3.subplots_adjust(left=0.05, right=0.95)\n",
    "grid3 = AxesGrid(fig3, 141, nrows_ncols=(1, 5), axes_pad=0.6)\n",
    "\n",
    "titles3 = ['Original', 'Erosion (square)', 'Erosion (disc)', 'Erosion (horizontal)', 'Erosion (vertical)']\n",
    "selem_names = ['square', 'disc', 'horizontal', 'vertical']\n",
    "\n",
    "selems = [se1, se1, se2, se3, se4]\n",
    "\n",
    "grid3[0].set_title(titles3[0])\n",
    "grid3[0].imshow(apply_threshold(img), cmap=plt.cm.binary_r)\n",
    "for i in range(1, len(titles3)):\n",
    "    grid3[i].set_title(titles3[i])\n",
    "    result = morph_filter('er', img, sel=selems[i])\n",
    "    io.imsave(\"test_images/erosion_{}_selem.png\".format(selem_names[i-1]), result)\n",
    "    grid3[i].imshow(result, cmap=plt.cm.binary_r)\n",
    "\n",
    "plt.savefig(\"images/filters-multiple-selem.png\")"
   ]
  },
  {
   "cell_type": "markdown",
   "metadata": {},
   "source": [
    "### Applying different sizes of structuring elements"
   ]
  },
  {
   "cell_type": "code",
   "execution_count": 96,
   "metadata": {},
   "outputs": [
    {
     "name": "stderr",
     "output_type": "stream",
     "text": [
      "/usr/lib/python3.6/site-packages/skimage/io/_io.py:132: UserWarning: test_images/erosion_3x3_selem.png is a low contrast image\n",
      "  warn('%s is a low contrast image' % fname)\n",
      "/usr/lib/python3.6/site-packages/skimage/io/_io.py:132: UserWarning: test_images/erosion_5x5_selem.png is a low contrast image\n",
      "  warn('%s is a low contrast image' % fname)\n",
      "/usr/lib/python3.6/site-packages/skimage/io/_io.py:132: UserWarning: test_images/erosion_7x7_selem.png is a low contrast image\n",
      "  warn('%s is a low contrast image' % fname)\n"
     ]
    },
    {
     "data": {
      "image/png": "[encoded data removed]",
      "text/plain": [
       "<matplotlib.figure.Figure at 0x7f74d569ceb8>"
      ]
     },
     "metadata": {},
     "output_type": "display_data"
    }
   ],
   "source": [
    "ico = io.imread(\"images/favicon.png\", as_grey=True)\n",
    "se1 = np.ones((3,3), dtype=np.uint8)\n",
    "se2 = np.ones((5,5), dtype=np.uint8)\n",
    "se3 = np.ones((7,7), dtype=np.uint8)\n",
    "\n",
    "fig4 = plt.figure()\n",
    "fig4.set_figwidth(100)\n",
    "fig4.set_figheight(150)\n",
    "\n",
    "fig4.subplots_adjust(left=0.05, right=0.95)\n",
    "grid4 = AxesGrid(fig4, 141, nrows_ncols=(1, 4), axes_pad=0.6)\n",
    "\n",
    "titles4 = ['Original', 'Erosion (3x3)', 'Erosion (5x5)', 'Erosion (7x7)']\n",
    "sizes = ['3x3', '5x5', '7x7']\n",
    "\n",
    "selems = [se1, se1, se2, se3]\n",
    "\n",
    "grid4[0].set_title(titles4[0])\n",
    "grid4[0].imshow(apply_threshold(ico), cmap=plt.cm.binary_r)\n",
    "for i in range(1, len(titles4)):\n",
    "    grid4[i].set_title(titles4[i])\n",
    "    result = morph_filter('er', ico, sel=selems[i])\n",
    "    io.imsave(\"test_images/erosion_{}_selem.png\".format(sizes[i-1]), result*255)\n",
    "    grid4[i].imshow(result, cmap=plt.cm.binary_r)\n",
    "\n",
    "plt.savefig(\"images/filters-multiple-selem-sizes.png\")"
   ]
  },
  {
   "cell_type": "markdown",
   "metadata": {},
   "source": [
    "### How structuring elements looks like"
   ]
  },
  {
   "cell_type": "code",
   "execution_count": 7,
   "metadata": {},
   "outputs": [
    {
     "data": {
      "image/png": "[encoded data removed]",
      "text/plain": [
       "<matplotlib.figure.Figure at 0x7fc8b69f96d8>"
      ]
     },
     "metadata": {},
     "output_type": "display_data"
    }
   ],
   "source": [
    "ee1 = np.ones((3,3), dtype=np.uint8)\n",
    "\n",
    "ee2 = np.array([[0, 1, 0], \n",
    "               [1, 1, 1], \n",
    "               [0, 1, 0]], dtype=np.uint8)\n",
    "\n",
    "ee3 = np.array([[0, 0, 0], \n",
    "               [1, 1, 1], \n",
    "               [0, 0, 0]], dtype=np.uint8)\n",
    "\n",
    "ee4 = np.array([[0, 1, 0], \n",
    "               [0, 1, 0], \n",
    "               [0, 1, 0]], dtype=np.uint8)\n",
    "\n",
    "\n",
    "fig5 = plt.figure()\n",
    "fig5.set_figwidth(50)\n",
    "fig5.set_figheight(120)\n",
    "\n",
    "fig5.subplots_adjust(left=0.05, right=0.95)\n",
    "grid5 = AxesGrid(fig5, 141, nrows_ncols=(1, 4), axes_pad=0.6)\n",
    "\n",
    "titles5 = ['Square', 'Disc', 'Horizontal', 'Vertical']\n",
    "\n",
    "ees = [ee1, ee2, ee3, ee4]\n",
    "\n",
    "for i in range(len(titles5)):\n",
    "    grid5[i].set_title(titles5[i])\n",
    "    grid5[i].imshow(ees[i], cmap=plt.cm.binary_r)\n",
    "    axes = grid5[i]\n",
    "    axes.set_xticks(np.arange(-.5, 3, 1))\n",
    "    axes.set_yticks(np.arange(-.5, 3, 1))\n",
    "    axes.set_xticklabels(np.arange(0, 3 + 1, 1))\n",
    "    axes.set_yticklabels(np.arange(0, 3 + 1, 1))\n",
    "    grid5[i].grid(True)\n",
    "\n",
    "plt.savefig(\"images/selem-types.png\")"
   ]
  },
  {
   "cell_type": "markdown",
   "metadata": {},
   "source": [
    "### Testing grayscale-mode filters"
   ]
  },
  {
   "cell_type": "code",
   "execution_count": 67,
   "metadata": {},
   "outputs": [
    {
     "name": "stderr",
     "output_type": "stream",
     "text": [
      "/usr/lib/python3.6/site-packages/skimage/io/_io.py:132: UserWarning: test_images/grayscale_er.png is a low contrast image\n",
      "  warn('%s is a low contrast image' % fname)\n",
      "/usr/lib/python3.6/site-packages/skimage/io/_io.py:132: UserWarning: test_images/grayscale_di.png is a low contrast image\n",
      "  warn('%s is a low contrast image' % fname)\n",
      "/usr/lib/python3.6/site-packages/skimage/io/_io.py:132: UserWarning: test_images/grayscale_op.png is a low contrast image\n",
      "  warn('%s is a low contrast image' % fname)\n",
      "/usr/lib/python3.6/site-packages/skimage/io/_io.py:132: UserWarning: test_images/grayscale_cl.png is a low contrast image\n",
      "  warn('%s is a low contrast image' % fname)\n",
      "/usr/lib/python3.6/site-packages/skimage/io/_io.py:132: UserWarning: test_images/grayscale_ig.png is a low contrast image\n",
      "  warn('%s is a low contrast image' % fname)\n",
      "/usr/lib/python3.6/site-packages/skimage/io/_io.py:132: UserWarning: test_images/grayscale_eg.png is a low contrast image\n",
      "  warn('%s is a low contrast image' % fname)\n",
      "/usr/lib/python3.6/site-packages/skimage/io/_io.py:132: UserWarning: test_images/grayscale_mg.png is a low contrast image\n",
      "  warn('%s is a low contrast image' % fname)\n",
      "/usr/lib/python3.6/site-packages/skimage/io/_io.py:132: UserWarning: test_images/grayscale_wth.png is a low contrast image\n",
      "  warn('%s is a low contrast image' % fname)\n",
      "/usr/lib/python3.6/site-packages/skimage/io/_io.py:132: UserWarning: test_images/grayscale_bth.png is a low contrast image\n",
      "  warn('%s is a low contrast image' % fname)\n"
     ]
    },
    {
     "data": {
      "image/png": "[encoded data removed]",
      "text/plain": [
       "<matplotlib.figure.Figure at 0x7f74d4f96908>"
      ]
     },
     "metadata": {},
     "output_type": "display_data"
    }
   ],
   "source": [
    "img = io.imread(\"images/smile.png\", as_grey=True)\n",
    "#img = (img * 255).astype(np.int64)\n",
    "\n",
    "fig6 = plt.figure()\n",
    "fig6.set_figwidth(100)\n",
    "fig6.set_figheight(150)\n",
    "\n",
    "fig6.subplots_adjust(left=0.05, right=0.95)\n",
    "grid6 = AxesGrid(fig6, 141, nrows_ncols=(2, 5), axes_pad=0.6)\n",
    "\n",
    "filters6 = ['original', 'er','di', 'op', 'cl', 'ig', 'eg', 'mg', 'wth', 'bth']\n",
    "titles6 = ['Original', 'Erosion', 'Dilation', 'Opening', 'Closing', 'Internal gradient', 'External gradient', 'Morphologycal gradient', 'White top-hat', 'Black top-hat']\n",
    "\n",
    "grid6[0].set_title(titles6[0])\n",
    "grid6[0].imshow(img, cmap=plt.cm.binary_r)\n",
    "for i, f in zip(range(1, len(filters6)), filters6[1:]):\n",
    "    grid6[i].set_title(titles6[i])\n",
    "    result = morph_filter(f, img, as_gray=True)\n",
    "    result = (result*255).astype(np.int64)\n",
    "    io.imsave(\"test_images/grayscale_{}.png\".format(filters6[i]), np.abs(result))\n",
    "    grid6[i].imshow(result, cmap=plt.cm.binary_r)\n",
    "\n",
    "plt.savefig(\"images/filters-grayscale.png\")"
   ]
  },
  {
   "cell_type": "markdown",
   "metadata": {},
   "source": [
    "### Testing with made up images"
   ]
  },
  {
   "cell_type": "code",
   "execution_count": 9,
   "metadata": {},
   "outputs": [],
   "source": [
    "test_img = np.array([[1,1,1,0], \n",
    "                  [1,1,1,1], \n",
    "                  [1,1,1,1],\n",
    "                  [0,1,1,1]], dtype=np.uint8)"
   ]
  },
  {
   "cell_type": "code",
   "execution_count": 10,
   "metadata": {},
   "outputs": [
    {
     "data": {
      "text/plain": [
       "<matplotlib.image.AxesImage at 0x7fc8b5b843c8>"
      ]
     },
     "execution_count": 10,
     "metadata": {},
     "output_type": "execute_result"
    },
    {
     "data": {
      "image/png": "[encoded data removed]",
      "text/plain": [
       "<matplotlib.figure.Figure at 0x7fc8b74d4668>"
      ]
     },
     "metadata": {},
     "output_type": "display_data"
    }
   ],
   "source": [
    "fm2 = FilterManager(ee)\n",
    "fm2.show(test_img)"
   ]
  },
  {
   "cell_type": "code",
   "execution_count": 11,
   "metadata": {},
   "outputs": [
    {
     "data": {
      "text/plain": [
       "<matplotlib.image.AxesImage at 0x7fc8b5b061d0>"
      ]
     },
     "execution_count": 11,
     "metadata": {},
     "output_type": "execute_result"
    },
    {
     "data": {
      "image/png": "[encoded data removed]",
      "text/plain": [
       "<matplotlib.figure.Figure at 0x7fc8b6e35b70>"
      ]
     },
     "metadata": {},
     "output_type": "display_data"
    }
   ],
   "source": [
    "fm2.show(fm2.apply_filter('er', test_img))"
   ]
  },
  {
   "cell_type": "code",
   "execution_count": null,
   "metadata": {},
   "outputs": [],
   "source": []
  },
  {
   "cell_type": "code",
   "execution_count": 12,
   "metadata": {},
   "outputs": [],
   "source": [
    "test_img_2 = np.array([[0,  0, 1, 1, 0, 0], \n",
    "                       [0, 1, 1, 1, 1, 0], \n",
    "                       [1, 1, 1, 1, 1, 0],\n",
    "                       [0, 1, 1, 1, 1, 0],  \n",
    "                       [0, 0, 1, 1, 1, 0],\n",
    "                       [0, 0, 1, 1, 0, 0]], dtype=np.uint8)"
   ]
  },
  {
   "cell_type": "code",
   "execution_count": 13,
   "metadata": {},
   "outputs": [
    {
     "data": {
      "text/plain": [
       "(6, 6)"
      ]
     },
     "execution_count": 13,
     "metadata": {},
     "output_type": "execute_result"
    }
   ],
   "source": [
    "test_img_2.shape"
   ]
  },
  {
   "cell_type": "code",
   "execution_count": 14,
   "metadata": {},
   "outputs": [],
   "source": [
    "fm3 = FilterManager(ee)"
   ]
  },
  {
   "cell_type": "code",
   "execution_count": 15,
   "metadata": {},
   "outputs": [
    {
     "data": {
      "text/plain": [
       "<matplotlib.image.AxesImage at 0x7fc8b5a765f8>"
      ]
     },
     "execution_count": 15,
     "metadata": {},
     "output_type": "execute_result"
    },
    {
     "data": {
      "image/png": "[encoded data removed]",
      "text/plain": [
       "<matplotlib.figure.Figure at 0x7fc8b5b44978>"
      ]
     },
     "metadata": {},
     "output_type": "display_data"
    }
   ],
   "source": [
    "fm3.show(test_img_2)"
   ]
  },
  {
   "cell_type": "code",
   "execution_count": 16,
   "metadata": {},
   "outputs": [
    {
     "data": {
      "text/plain": [
       "<matplotlib.image.AxesImage at 0x7fc8b59ed0b8>"
      ]
     },
     "execution_count": 16,
     "metadata": {},
     "output_type": "execute_result"
    },
    {
     "data": {
      "image/png": "[encoded data removed]",
      "text/plain": [
       "<matplotlib.figure.Figure at 0x7fc8b7368710>"
      ]
     },
     "metadata": {},
     "output_type": "display_data"
    }
   ],
   "source": [
    "fm3.show(fm3.apply_filter('er', test_img_2))"
   ]
  },
  {
   "cell_type": "code",
   "execution_count": 17,
   "metadata": {},
   "outputs": [],
   "source": [
    "test_img = np.array([[1,1,1,0], \n",
    "                  [1,1,1,1], \n",
    "                  [1,1,1,1],\n",
    "                  [0,1,1,1]], dtype=np.uint8)\n",
    "ee = np.ones((3,3))\n",
    "ee2 = np.array([[0, 0, 0],\n",
    "               [1, 1, 1],\n",
    "               [0, 0, 0]])\n",
    "\n",
    "ee3 = np.array([[1, 0, 0],\n",
    "               [1, 0, 0],\n",
    "               [1, 1, 1]])\n",
    "\n",
    "fm5 = FilterManager(ee3)"
   ]
  },
  {
   "cell_type": "code",
   "execution_count": 18,
   "metadata": {},
   "outputs": [
    {
     "data": {
      "text/plain": [
       "<matplotlib.image.AxesImage at 0x7fc8b5962048>"
      ]
     },
     "execution_count": 18,
     "metadata": {},
     "output_type": "execute_result"
    },
    {
     "data": {
      "image/png": "[encoded data removed]",
      "text/plain": [
       "<matplotlib.figure.Figure at 0x7fc8b5a2cf60>"
      ]
     },
     "metadata": {},
     "output_type": "display_data"
    }
   ],
   "source": [
    "fm5.show(test_img)"
   ]
  },
  {
   "cell_type": "code",
   "execution_count": 19,
   "metadata": {},
   "outputs": [
    {
     "name": "stdout",
     "output_type": "stream",
     "text": [
      "CPU times: user 45.9 ms, sys: 2.55 ms, total: 48.4 ms\n",
      "Wall time: 47.9 ms\n"
     ]
    },
    {
     "data": {
      "text/plain": [
       "<matplotlib.image.AxesImage at 0x7fc8b58d5128>"
      ]
     },
     "execution_count": 19,
     "metadata": {},
     "output_type": "execute_result"
    },
    {
     "data": {
      "image/png": "[encoded data removed]",
      "text/plain": [
       "<matplotlib.figure.Figure at 0x7fc8b59a7278>"
      ]
     },
     "metadata": {},
     "output_type": "display_data"
    }
   ],
   "source": [
    "%time fm5.show(fm5.apply_filter('er', test_img))"
   ]
  },
  {
   "cell_type": "code",
   "execution_count": 20,
   "metadata": {},
   "outputs": [
    {
     "name": "stdout",
     "output_type": "stream",
     "text": [
      "CPU times: user 44.3 ms, sys: 6.22 ms, total: 50.6 ms\n",
      "Wall time: 49.7 ms\n"
     ]
    },
    {
     "data": {
      "text/plain": [
       "<matplotlib.image.AxesImage at 0x7fc8b584b748>"
      ]
     },
     "execution_count": 20,
     "metadata": {},
     "output_type": "execute_result"
    },
    {
     "data": {
      "image/png": "[encoded data removed]",
      "text/plain": [
       "<matplotlib.figure.Figure at 0x7fc8b59a7358>"
      ]
     },
     "metadata": {},
     "output_type": "display_data"
    }
   ],
   "source": [
    "%time fm5.show(erosion(test_img, ee3))"
   ]
  },
  {
   "cell_type": "markdown",
   "metadata": {},
   "source": [
    "### Testing morphologycal reconstruction"
   ]
  },
  {
   "cell_type": "code",
   "execution_count": 78,
   "metadata": {},
   "outputs": [],
   "source": [
    "chars = io.imread(\"images/chars.bmp\", as_grey=True)\n",
    "ee = np.array([[0,1,0],\n",
    "              [1,1,1],\n",
    "              [0,1,0]], dtype=np.int64)\n",
    "chars = 1 - chars"
   ]
  },
  {
   "cell_type": "code",
   "execution_count": 4,
   "metadata": {},
   "outputs": [
    {
     "data": {
      "text/plain": [
       "<matplotlib.image.AxesImage at 0x7f66b9964908>"
      ]
     },
     "execution_count": 4,
     "metadata": {},
     "output_type": "execute_result"
    },
    {
     "data": {
      "image/png": "[encoded data removed]",
      "text/plain": [
       "<matplotlib.figure.Figure at 0x7f66b9f27828>"
      ]
     },
     "metadata": {},
     "output_type": "display_data"
    }
   ],
   "source": [
    "plt.imshow(chars, cmap=plt.cm.binary_r)"
   ]
  },
  {
   "cell_type": "code",
   "execution_count": 98,
   "metadata": {},
   "outputs": [
    {
     "name": "stderr",
     "output_type": "stream",
     "text": [
      "/usr/lib/python3.6/site-packages/skimage/io/_io.py:132: UserWarning: test_images/morph_recon_mark.png is a low contrast image\n",
      "  warn('%s is a low contrast image' % fname)\n"
     ]
    }
   ],
   "source": [
    "mark = morph_filter('er', chars, ee, 4)\n",
    "io.imsave(\"test_images/morph_recon_mark.png\", mark*255)"
   ]
  },
  {
   "cell_type": "code",
   "execution_count": 99,
   "metadata": {},
   "outputs": [
    {
     "data": {
      "image/png": "[encoded data removed]",
      "text/plain": [
       "<matplotlib.figure.Figure at 0x7f74c1985ba8>"
      ]
     },
     "metadata": {},
     "output_type": "display_data"
    }
   ],
   "source": [
    "plt.imshow(mark, cmap=plt.cm.binary_r)\n",
    "plt.savefig(\"images/morphologycal-mark.png\")"
   ]
  },
  {
   "cell_type": "code",
   "execution_count": 106,
   "metadata": {},
   "outputs": [],
   "source": [
    "reconstruction = morphologycal_reconstruction(mark, chars, False, n_iterations=1, sel=ee)"
   ]
  },
  {
   "cell_type": "code",
   "execution_count": 107,
   "metadata": {},
   "outputs": [
    {
     "data": {
      "text/plain": [
       "array([[255, 255, 255, ..., 255, 255, 255],\n",
       "       [255, 255, 255, ..., 255, 255, 255],\n",
       "       [255, 255, 255, ..., 255, 255, 255],\n",
       "       ..., \n",
       "       [255, 255, 255, ..., 255, 255, 255],\n",
       "       [255, 255, 255, ..., 255, 255, 255],\n",
       "       [255, 255, 255, ..., 255, 255, 255]])"
      ]
     },
     "execution_count": 107,
     "metadata": {},
     "output_type": "execute_result"
    }
   ],
   "source": [
    "reconstruction*255"
   ]
  },
  {
   "cell_type": "code",
   "execution_count": 108,
   "metadata": {},
   "outputs": [
    {
     "name": "stderr",
     "output_type": "stream",
     "text": [
      "/usr/lib/python3.6/site-packages/skimage/io/_io.py:132: UserWarning: test_images/morph_recon.png is a low contrast image\n",
      "  warn('%s is a low contrast image' % fname)\n"
     ]
    },
    {
     "data": {
      "image/png": "[encoded data removed]",
      "text/plain": [
       "<matplotlib.figure.Figure at 0x7f74c0dc3160>"
      ]
     },
     "metadata": {},
     "output_type": "display_data"
    }
   ],
   "source": [
    "io.imsave(\"test_images/morph_recon.png\", reconstruction*255)\n",
    "plt.imshow(reconstruction, cmap=plt.cm.binary_r)\n",
    "plt.savefig(\"images/morphologycal-reconstruction.png\")"
   ]
  }
 ],
 "metadata": {
  "kernelspec": {
   "display_name": "Python 3",
   "language": "python",
   "name": "python3"
  },
  "language_info": {
   "codemirror_mode": {
    "name": "ipython",
    "version": 3
   },
   "file_extension": ".py",
   "mimetype": "text/x-python",
   "name": "python",
   "nbconvert_exporter": "python",
   "pygments_lexer": "ipython3",
   "version": "3.6.4"
  }
 },
 "nbformat": 4,
 "nbformat_minor": 2
}
